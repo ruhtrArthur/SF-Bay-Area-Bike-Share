{
 "cells": [
  {
   "cell_type": "code",
   "execution_count": 1,
   "metadata": {},
   "outputs": [
    {
     "data": {
      "application/vnd.jupyter.widget-view+json": {
       "model_id": "6047f48d5bf7467d9f918aaa1fdb0d9a",
       "version_major": 2,
       "version_minor": 0
      },
      "text/plain": [
       "VBox()"
      ]
     },
     "metadata": {},
     "output_type": "display_data"
    },
    {
     "name": "stdout",
     "output_type": "stream",
     "text": [
      "Starting Spark application\n"
     ]
    },
    {
     "data": {
      "text/html": [
       "<table>\n",
       "<tr><th>ID</th><th>YARN Application ID</th><th>Kind</th><th>State</th><th>Spark UI</th><th>Driver log</th><th>Current session?</th></tr><tr><td>80</td><td>application_1579071174065_0049</td><td>pyspark</td><td>idle</td><td><a target=\"_blank\" href=\"http://ip-172-31-31-244.us-west-2.compute.internal:20888/proxy/application_1579071174065_0049/\">Link</a></td><td><a target=\"_blank\" href=\"http://ip-172-31-20-219.us-west-2.compute.internal:8042/node/containerlogs/container_1579071174065_0049_01_000001/livy\">Link</a></td><td>✔</td></tr></table>"
      ],
      "text/plain": [
       "<IPython.core.display.HTML object>"
      ]
     },
     "metadata": {},
     "output_type": "display_data"
    },
    {
     "data": {
      "application/vnd.jupyter.widget-view+json": {
       "model_id": "",
       "version_major": 2,
       "version_minor": 0
      },
      "text/plain": [
       "FloatProgress(value=0.0, bar_style='info', description='Progress:', layout=Layout(height='25px', width='50%'),…"
      ]
     },
     "metadata": {},
     "output_type": "display_data"
    },
    {
     "name": "stdout",
     "output_type": "stream",
     "text": [
      "SparkSession available as 'spark'.\n"
     ]
    },
    {
     "data": {
      "application/vnd.jupyter.widget-view+json": {
       "model_id": "",
       "version_major": 2,
       "version_minor": 0
      },
      "text/plain": [
       "FloatProgress(value=0.0, bar_style='info', description='Progress:', layout=Layout(height='25px', width='50%'),…"
      ]
     },
     "metadata": {},
     "output_type": "display_data"
    }
   ],
   "source": [
    "from itertools import chain\n",
    "\n",
    "from pyspark import SparkContext\n",
    "from pyspark.sql import SparkSession\n",
    "from pyspark.ml.feature import VectorAssembler\n",
    "from pyspark.sql.types import StringType, IntegerType\n",
    "\n",
    "from pyspark.ml.tuning import CrossValidator\n",
    "from pyspark.ml.tuning import ParamGridBuilder\n",
    "from pyspark.ml.evaluation import RegressionEvaluator\n",
    "from pyspark.ml.regression import RandomForestRegressor\n",
    "from pyspark.sql.functions import split, element_at, when, col, count, isnull\n",
    "\n",
    "sc = SparkContext.getOrCreate()\n",
    "ss = SparkSession.builder.getOrCreate()"
   ]
  },
  {
   "cell_type": "markdown",
   "metadata": {},
   "source": [
    "# Load data from S3"
   ]
  },
  {
   "cell_type": "code",
   "execution_count": 3,
   "metadata": {},
   "outputs": [
    {
     "data": {
      "application/vnd.jupyter.widget-view+json": {
       "model_id": "6076b9ceba154990b9d312d0ea812d13",
       "version_major": 2,
       "version_minor": 0
      },
      "text/plain": [
       "VBox()"
      ]
     },
     "metadata": {},
     "output_type": "display_data"
    },
    {
     "data": {
      "application/vnd.jupyter.widget-view+json": {
       "model_id": "",
       "version_major": 2,
       "version_minor": 0
      },
      "text/plain": [
       "FloatProgress(value=0.0, bar_style='info', description='Progress:', layout=Layout(height='25px', width='50%'),…"
      ]
     },
     "metadata": {},
     "output_type": "display_data"
    }
   ],
   "source": [
    "import time\n",
    "start_time = time.time()"
   ]
  },
  {
   "cell_type": "code",
   "execution_count": 4,
   "metadata": {},
   "outputs": [
    {
     "data": {
      "application/vnd.jupyter.widget-view+json": {
       "model_id": "29d3b6df0c5245d4a2644bc0c352a0de",
       "version_major": 2,
       "version_minor": 0
      },
      "text/plain": [
       "VBox()"
      ]
     },
     "metadata": {},
     "output_type": "display_data"
    },
    {
     "data": {
      "application/vnd.jupyter.widget-view+json": {
       "model_id": "",
       "version_major": 2,
       "version_minor": 0
      },
      "text/plain": [
       "FloatProgress(value=0.0, bar_style='info', description='Progress:', layout=Layout(height='25px', width='50%'),…"
      ]
     },
     "metadata": {},
     "output_type": "display_data"
    },
    {
     "name": "stdout",
     "output_type": "stream",
     "text": [
      "DataFrame[id: int, name: string, lat: double, long: double, dock_count: int, city: string, installation_date: string]"
     ]
    }
   ],
   "source": [
    "trip = ss.read.csv(\"s3a://usf.msds.stillbikeshare/trip.csv\", inferSchema=True, header=True)\n",
    "trip.cache()\n",
    "weather = ss.read.csv(\"s3a://usf.msds.stillbikeshare/weather.csv\", inferSchema=True, header=True)\n",
    "weather.cache()\n",
    "station = ss.read.csv(\"s3a://usf.msds.stillbikeshare/station.csv\", inferSchema=True, header=True)\n",
    "station.cache()"
   ]
  },
  {
   "cell_type": "markdown",
   "metadata": {},
   "source": [
    "# Data Processing"
   ]
  },
  {
   "cell_type": "code",
   "execution_count": 5,
   "metadata": {},
   "outputs": [
    {
     "data": {
      "application/vnd.jupyter.widget-view+json": {
       "model_id": "3a007cde05204f07a45437f4ff97ba86",
       "version_major": 2,
       "version_minor": 0
      },
      "text/plain": [
       "VBox()"
      ]
     },
     "metadata": {},
     "output_type": "display_data"
    },
    {
     "data": {
      "application/vnd.jupyter.widget-view+json": {
       "model_id": "",
       "version_major": 2,
       "version_minor": 0
      },
      "text/plain": [
       "FloatProgress(value=0.0, bar_style='info', description='Progress:', layout=Layout(height='25px', width='50%'),…"
      ]
     },
     "metadata": {},
     "output_type": "display_data"
    }
   ],
   "source": [
    "trip_split = trip.withColumn(\"start_date_split\", split(\"start_date\", \"(?<=^[^ ]*)\\\\ \"))\n",
    "trip_split = trip_split.withColumn('start_date_no_time', element_at('start_date_split', 1))\n",
    "trip_split = trip_split.drop('start_date_split')\n",
    "trip_split = trip_split.withColumn(\"zip_code\", trip_split[\"zip_code\"].cast(IntegerType()))\n",
    "weather = weather.withColumn(\"zip_code\", weather[\"zip_code\"].cast(IntegerType()))\n",
    "weather = weather.withColumnRenamed('zip_code', 'zip_code2')"
   ]
  },
  {
   "cell_type": "code",
   "execution_count": 6,
   "metadata": {},
   "outputs": [
    {
     "data": {
      "application/vnd.jupyter.widget-view+json": {
       "model_id": "58669651253a4b52a8101722b7362f6a",
       "version_major": 2,
       "version_minor": 0
      },
      "text/plain": [
       "VBox()"
      ]
     },
     "metadata": {},
     "output_type": "display_data"
    },
    {
     "data": {
      "application/vnd.jupyter.widget-view+json": {
       "model_id": "",
       "version_major": 2,
       "version_minor": 0
      },
      "text/plain": [
       "FloatProgress(value=0.0, bar_style='info', description='Progress:', layout=Layout(height='25px', width='50%'),…"
      ]
     },
     "metadata": {},
     "output_type": "display_data"
    },
    {
     "name": "stdout",
     "output_type": "stream",
     "text": [
      "+-------+--------+---------------+--------------------+----------------+---------------+--------------------+--------------+-------+-----------------+--------+------------------+----------------+---------+-----------------+------------------+-----------------+---------------+----------------+---------------+------------+-------------+------------+-----------------------------+------------------------------+-----------------------------+--------------------+---------------------+--------------------+------------------+-------------------+------------------+--------------------+-----------+------+----------------+---------+\n",
      "|trip_id|duration|     start_date|  start_station_name|start_station_id|       end_date|    end_station_name|end_station_id|bike_id|subscription_type|zip_code|start_date_no_time|zip_code_weather|     date|max_temperature_f|mean_temperature_f|min_temperature_f|max_dew_point_f|mean_dew_point_f|min_dew_point_f|max_humidity|mean_humidity|min_humidity|max_sea_level_pressure_inches|mean_sea_level_pressure_inches|min_sea_level_pressure_inches|max_visibility_miles|mean_visibility_miles|min_visibility_miles|max_wind_Speed_mph|mean_wind_speed_mph|max_gust_speed_mph|precipitation_inches|cloud_cover|events|wind_dir_degrees|zip_code2|\n",
      "+-------+--------+---------------+--------------------+----------------+---------------+--------------------+--------------+-------+-----------------+--------+------------------+----------------+---------+-----------------+------------------+-----------------+---------------+----------------+---------------+------------+-------------+------------+-----------------------------+------------------------------+-----------------------------+--------------------+---------------------+--------------------+------------------+-------------------+------------------+--------------------+-----------+------+----------------+---------+\n",
      "|   4576|      63|8/29/2013 14:13|South Van Ness at...|              66|8/29/2013 14:14|South Van Ness at...|            66|    520|       Subscriber|   94127|         8/29/2013|           94107|8/29/2013|             74.0|              68.0|             61.0|           61.0|            58.0|           56.0|        93.0|         75.0|        57.0|                        30.07|                         30.02|                        29.97|                10.0|                 10.0|                10.0|              23.0|               11.0|              28.0|                   0|        4.0|  null|           286.0|    94107|\n",
      "|   4607|      70|8/29/2013 14:42|  San Jose City Hall|              10|8/29/2013 14:43|  San Jose City Hall|            10|    661|       Subscriber|   95138|         8/29/2013|           95113|8/29/2013|             81.0|              72.0|             63.0|           62.0|            61.0|           59.0|        87.0|         69.0|        51.0|                        30.06|                         30.02|                        29.96|                10.0|                 10.0|                10.0|              16.0|                7.0|              24.0|                   0|        4.0|  null|           320.0|    95113|\n",
      "|   4299|      83|8/29/2013 12:02|South Van Ness at...|              66|8/29/2013 12:04|      Market at 10th|            67|    319|       Subscriber|   94103|         8/29/2013|           94107|8/29/2013|             74.0|              68.0|             61.0|           61.0|            58.0|           56.0|        93.0|         75.0|        57.0|                        30.07|                         30.02|                        29.97|                10.0|                 10.0|                10.0|              23.0|               11.0|              28.0|                   0|        4.0|  null|           286.0|    94107|\n",
      "+-------+--------+---------------+--------------------+----------------+---------------+--------------------+--------------+-------+-----------------+--------+------------------+----------------+---------+-----------------+------------------+-----------------+---------------+----------------+---------------+------------+-------------+------------+-----------------------------+------------------------------+-----------------------------+--------------------+---------------------+--------------------+------------------+-------------------+------------------+--------------------+-----------+------+----------------+---------+\n",
      "only showing top 3 rows"
     ]
    }
   ],
   "source": [
    "trip_join= trip_split.withColumn(\n",
    "    'zip_code_weather',\n",
    "    when((col(\"zip_code\") >= 94102) & (col(\"zip_code\") <= 94158), 94107)\\\n",
    "    .when((col(\"zip_code\") >= 94035) & (col('zip_code') <= 94043), 94041)\\\n",
    "    .when((col(\"zip_code\") >= 94061) & (col('zip_code') <= 94065), 94063)\\\n",
    "    .when((col(\"zip_code\") >= 94301) & (col('zip_code') <= 94309), 94301)\\\n",
    "    .when((col(\"zip_code\") >= 95101) & (col('zip_code') <= 95196), 95113)\n",
    ")\n",
    "trip_join = trip_join.filter(trip_join['zip_code_weather'].isNotNull())\n",
    "trip_weather = trip_join.join(weather, (trip_join.start_date_no_time == weather.date\n",
    "                                       ) & (trip_join.zip_code_weather == weather.zip_code2))\n",
    "trip_weather = trip_weather.withColumnRenamed('id', 'trip_id')\n",
    "trip_weather.show(3)"
   ]
  },
  {
   "cell_type": "code",
   "execution_count": 7,
   "metadata": {},
   "outputs": [
    {
     "data": {
      "application/vnd.jupyter.widget-view+json": {
       "model_id": "7fd99fc4e5ff4477b0682a012108af6b",
       "version_major": 2,
       "version_minor": 0
      },
      "text/plain": [
       "VBox()"
      ]
     },
     "metadata": {},
     "output_type": "display_data"
    },
    {
     "data": {
      "application/vnd.jupyter.widget-view+json": {
       "model_id": "",
       "version_major": 2,
       "version_minor": 0
      },
      "text/plain": [
       "FloatProgress(value=0.0, bar_style='info', description='Progress:', layout=Layout(height='25px', width='50%'),…"
      ]
     },
     "metadata": {},
     "output_type": "display_data"
    },
    {
     "name": "stdout",
     "output_type": "stream",
     "text": [
      "+-------+--------+---------------+--------------------+----------------+---------------+--------------------+--------------+-------+-----------------+--------+------------------+----------------+---------+-----------------+------------------+-----------------+---------------+----------------+---------------+------------+-------------+------------+-----------------------------+------------------------------+-----------------------------+--------------------+---------------------+--------------------+------------------+-------------------+------------------+--------------------+-----------+------+----------------+---------+--------+--------------------+------------------+-------------------+-----------+-------------+-----------------------+------+--------------------+------------------+-------------------+---------+-------------+---------------------+\n",
      "|trip_id|duration|     start_date|  start_station_name|start_station_id|       end_date|    end_station_name|end_station_id|bike_id|subscription_type|zip_code|start_date_no_time|zip_code_weather|     date|max_temperature_f|mean_temperature_f|min_temperature_f|max_dew_point_f|mean_dew_point_f|min_dew_point_f|max_humidity|mean_humidity|min_humidity|max_sea_level_pressure_inches|mean_sea_level_pressure_inches|min_sea_level_pressure_inches|max_visibility_miles|mean_visibility_miles|min_visibility_miles|max_wind_Speed_mph|mean_wind_speed_mph|max_gust_speed_mph|precipitation_inches|cloud_cover|events|wind_dir_degrees|zip_code2|start_id|          start_name|         start_lat|         start_long|start_count|   start_city|start_installation_date|end_id|            end_name|           end_lat|           end_long|end_count|     end_city|end_installation_date|\n",
      "+-------+--------+---------------+--------------------+----------------+---------------+--------------------+--------------+-------+-----------------+--------+------------------+----------------+---------+-----------------+------------------+-----------------+---------------+----------------+---------------+------------+-------------+------------+-----------------------------+------------------------------+-----------------------------+--------------------+---------------------+--------------------+------------------+-------------------+------------------+--------------------+-----------+------+----------------+---------+--------+--------------------+------------------+-------------------+-----------+-------------+-----------------------+------+--------------------+------------------+-------------------+---------+-------------+---------------------+\n",
      "|   4576|      63|8/29/2013 14:13|South Van Ness at...|              66|8/29/2013 14:14|South Van Ness at...|            66|    520|       Subscriber|   94127|         8/29/2013|           94107|8/29/2013|             74.0|              68.0|             61.0|           61.0|            58.0|           56.0|        93.0|         75.0|        57.0|                        30.07|                         30.02|                        29.97|                10.0|                 10.0|                10.0|              23.0|               11.0|              28.0|                   0|        4.0|  null|           286.0|    94107|      66|South Van Ness at...|         37.774814|        -122.418954|         19|San Francisco|              8/23/2013|    66|South Van Ness at...|         37.774814|        -122.418954|       19|San Francisco|            8/23/2013|\n",
      "|   4607|      70|8/29/2013 14:42|  San Jose City Hall|              10|8/29/2013 14:43|  San Jose City Hall|            10|    661|       Subscriber|   95138|         8/29/2013|           95113|8/29/2013|             81.0|              72.0|             63.0|           62.0|            61.0|           59.0|        87.0|         69.0|        51.0|                        30.06|                         30.02|                        29.96|                10.0|                 10.0|                10.0|              16.0|                7.0|              24.0|                   0|        4.0|  null|           320.0|    95113|      10|  San Jose City Hall|         37.337391|        -121.886995|         15|     San Jose|               8/6/2013|    10|  San Jose City Hall|         37.337391|        -121.886995|       15|     San Jose|             8/6/2013|\n",
      "|   4299|      83|8/29/2013 12:02|South Van Ness at...|              66|8/29/2013 12:04|      Market at 10th|            67|    319|       Subscriber|   94103|         8/29/2013|           94107|8/29/2013|             74.0|              68.0|             61.0|           61.0|            58.0|           56.0|        93.0|         75.0|        57.0|                        30.07|                         30.02|                        29.97|                10.0|                 10.0|                10.0|              23.0|               11.0|              28.0|                   0|        4.0|  null|           286.0|    94107|      66|South Van Ness at...|         37.774814|        -122.418954|         19|San Francisco|              8/23/2013|    67|      Market at 10th|37.776619000000004|-122.41738500000001|       27|San Francisco|            8/23/2013|\n",
      "|   4927|     103|8/29/2013 18:54| Golden Gate at Polk|              59|8/29/2013 18:56| Golden Gate at Polk|            59|    527|       Subscriber|   94109|         8/29/2013|           94107|8/29/2013|             74.0|              68.0|             61.0|           61.0|            58.0|           56.0|        93.0|         75.0|        57.0|                        30.07|                         30.02|                        29.97|                10.0|                 10.0|                10.0|              23.0|               11.0|              28.0|                   0|        4.0|  null|           286.0|    94107|      59| Golden Gate at Polk|         37.781332|        -122.418603|         23|San Francisco|              8/21/2013|    59| Golden Gate at Polk|         37.781332|        -122.418603|       23|San Francisco|            8/21/2013|\n",
      "|   4500|     109|8/29/2013 13:25|Santa Clara at Al...|               4|8/29/2013 13:27|    Adobe on Almaden|             5|    679|       Subscriber|   95112|         8/29/2013|           95113|8/29/2013|             81.0|              72.0|             63.0|           62.0|            61.0|           59.0|        87.0|         69.0|        51.0|                        30.06|                         30.02|                        29.96|                10.0|                 10.0|                10.0|              16.0|                7.0|              24.0|                   0|        4.0|  null|           320.0|    95113|       4|Santa Clara at Al...|         37.333988|        -121.894902|         11|     San Jose|               8/6/2013|     5|    Adobe on Almaden|         37.331415|          -121.8932|       19|     San Jose|             8/5/2013|\n",
      "|   4563|     111|8/29/2013 14:02| San Salvador at 1st|               8|8/29/2013 14:04| San Salvador at 1st|             8|    687|       Subscriber|   95112|         8/29/2013|           95113|8/29/2013|             81.0|              72.0|             63.0|           62.0|            61.0|           59.0|        87.0|         69.0|        51.0|                        30.06|                         30.02|                        29.96|                10.0|                 10.0|                10.0|              16.0|                7.0|              24.0|                   0|        4.0|  null|           320.0|    95113|       8| San Salvador at 1st|         37.330165|-121.88583100000001|         15|     San Jose|               8/5/2013|     8| San Salvador at 1st|         37.330165|-121.88583100000001|       15|     San Jose|             8/5/2013|\n",
      "|   4760|     113|8/29/2013 17:01|South Van Ness at...|              66|8/29/2013 17:03|South Van Ness at...|            66|    553|       Subscriber|   94103|         8/29/2013|           94107|8/29/2013|             74.0|              68.0|             61.0|           61.0|            58.0|           56.0|        93.0|         75.0|        57.0|                        30.07|                         30.02|                        29.97|                10.0|                 10.0|                10.0|              23.0|               11.0|              28.0|                   0|        4.0|  null|           286.0|    94107|      66|South Van Ness at...|         37.774814|        -122.418954|         19|San Francisco|              8/23/2013|    66|South Van Ness at...|         37.774814|        -122.418954|       19|San Francisco|            8/23/2013|\n",
      "|   4549|     125|8/29/2013 13:52|     Spear at Folsom|              49|8/29/2013 13:55|Embarcadero at Br...|            54|    368|       Subscriber|   94109|         8/29/2013|           94107|8/29/2013|             74.0|              68.0|             61.0|           61.0|            58.0|           56.0|        93.0|         75.0|        57.0|                        30.07|                         30.02|                        29.97|                10.0|                 10.0|                10.0|              23.0|               11.0|              28.0|                   0|        4.0|  null|           286.0|    94107|      49|     Spear at Folsom|37.790302000000004|-122.39063700000001|         19|San Francisco|              8/20/2013|    54|Embarcadero at Br...|         37.787152|-122.38801299999999|       15|San Francisco|            8/20/2013|\n",
      "|   4498|     126|8/29/2013 13:23|    San Pedro Square|               6|8/29/2013 13:25|Santa Clara at Al...|             4|     26|       Subscriber|   95112|         8/29/2013|           95113|8/29/2013|             81.0|              72.0|             63.0|           62.0|            61.0|           59.0|        87.0|         69.0|        51.0|                        30.06|                         30.02|                        29.96|                10.0|                 10.0|                10.0|              16.0|                7.0|              24.0|                   0|        4.0|  null|           320.0|    95113|       6|    San Pedro Square|37.336721000000004|        -121.894074|         15|     San Jose|               8/7/2013|     4|Santa Clara at Al...|         37.333988|        -121.894902|       11|     San Jose|             8/6/2013|\n",
      "|   4965|     129|8/29/2013 19:32|Mountain View Cal...|              28|8/29/2013 19:35|Mountain View Cal...|            28|    140|       Subscriber|   94041|         8/29/2013|           94041|8/29/2013|             80.0|              70.0|             64.0|           65.0|            61.0|           58.0|        83.0|         72.0|        55.0|                        30.04|                         30.04|                        29.94|                10.0|                 10.0|                10.0|              16.0|                5.0|              16.0|                   0|        4.0|  null|           355.0|    94041|      28|Mountain View Cal...|37.394358000000004|-122.07671299999998|         23|Mountain View|              8/15/2013|    28|Mountain View Cal...|37.394358000000004|-122.07671299999998|       23|Mountain View|            8/15/2013|\n",
      "|   4557|     130|8/29/2013 13:57|   2nd at South Park|              64|8/29/2013 13:59|   2nd at South Park|            64|    371|       Subscriber|   94122|         8/29/2013|           94107|8/29/2013|             74.0|              68.0|             61.0|           61.0|            58.0|           56.0|        93.0|         75.0|        57.0|                        30.07|                         30.02|                        29.97|                10.0|                 10.0|                10.0|              23.0|               11.0|              28.0|                   0|        4.0|  null|           286.0|    94107|      64|   2nd at South Park|         37.782259|        -122.392738|         15|San Francisco|              8/22/2013|    64|   2nd at South Park|         37.782259|        -122.392738|       15|San Francisco|            8/22/2013|\n",
      "|   4386|     134|8/29/2013 12:31|     Clay at Battery|              41|8/29/2013 12:33|     Beale at Market|            56|    503|       Subscriber|   94109|         8/29/2013|           94107|8/29/2013|             74.0|              68.0|             61.0|           61.0|            58.0|           56.0|        93.0|         75.0|        57.0|                        30.07|                         30.02|                        29.97|                10.0|                 10.0|                10.0|              23.0|               11.0|              28.0|                   0|        4.0|  null|           286.0|    94107|      41|     Clay at Battery|         37.795001|         -122.39997|         15|San Francisco|              8/19/2013|    56|     Beale at Market|         37.792251|-122.39708600000002|       19|San Francisco|            8/20/2013|\n",
      "|   4749|     138|8/29/2013 16:57|     Post at Kearney|              47|8/29/2013 16:59|     Post at Kearney|            47|    408|       Subscriber|   94117|         8/29/2013|           94107|8/29/2013|             74.0|              68.0|             61.0|           61.0|            58.0|           56.0|        93.0|         75.0|        57.0|                        30.07|                         30.02|                        29.97|                10.0|                 10.0|                10.0|              23.0|               11.0|              28.0|                   0|        4.0|  null|           286.0|    94107|      47|     Post at Kearney|         37.788975|        -122.403452|         19|San Francisco|              8/19/2013|    47|     Post at Kearney|         37.788975|        -122.403452|       19|San Francisco|            8/19/2013|\n",
      "|   4329|     142|8/29/2013 12:11|      Market at 10th|              67|8/29/2013 12:14|      Market at 10th|            67|    319|       Subscriber|   94103|         8/29/2013|           94107|8/29/2013|             74.0|              68.0|             61.0|           61.0|            58.0|           56.0|        93.0|         75.0|        57.0|                        30.07|                         30.02|                        29.97|                10.0|                 10.0|                10.0|              23.0|               11.0|              28.0|                   0|        4.0|  null|           286.0|    94107|      67|      Market at 10th|37.776619000000004|-122.41738500000001|         27|San Francisco|              8/23/2013|    67|      Market at 10th|37.776619000000004|-122.41738500000001|       27|San Francisco|            8/23/2013|\n",
      "|   5097|     142|8/29/2013 22:21|   Steuart at Market|              74|8/29/2013 22:24|Harry Bridges Pla...|            50|    564|       Subscriber|   94115|         8/29/2013|           94107|8/29/2013|             74.0|              68.0|             61.0|           61.0|            58.0|           56.0|        93.0|         75.0|        57.0|                        30.07|                         30.02|                        29.97|                10.0|                 10.0|                10.0|              23.0|               11.0|              28.0|                   0|        4.0|  null|           286.0|    94107|      74|   Steuart at Market|         37.794139|        -122.394434|         23|San Francisco|              8/25/2013|    50|Harry Bridges Pla...|         37.795392|        -122.394203|       23|San Francisco|            8/20/2013|\n",
      "|   5084|     144|8/29/2013 22:06|  Powell Street BART|              39|8/29/2013 22:08|       Market at 4th|            76|    574|       Subscriber|   94115|         8/29/2013|           94107|8/29/2013|             74.0|              68.0|             61.0|           61.0|            58.0|           56.0|        93.0|         75.0|        57.0|                        30.07|                         30.02|                        29.97|                10.0|                 10.0|                10.0|              23.0|               11.0|              28.0|                   0|        4.0|  null|           286.0|    94107|      39|  Powell Street BART|37.783871000000005|        -122.408433|         19|San Francisco|              8/25/2013|    76|       Market at 4th|         37.786305|-122.40496599999999|       19|San Francisco|            8/25/2013|\n",
      "|   4982|     146|8/29/2013 19:42|     Spear at Folsom|              49|8/29/2013 19:44|Embarcadero at Br...|            54|    542|       Subscriber|   94105|         8/29/2013|           94107|8/29/2013|             74.0|              68.0|             61.0|           61.0|            58.0|           56.0|        93.0|         75.0|        57.0|                        30.07|                         30.02|                        29.97|                10.0|                 10.0|                10.0|              23.0|               11.0|              28.0|                   0|        4.0|  null|           286.0|    94107|      49|     Spear at Folsom|37.790302000000004|-122.39063700000001|         19|San Francisco|              8/20/2013|    54|Embarcadero at Br...|         37.787152|-122.38801299999999|       15|San Francisco|            8/20/2013|\n",
      "|   4417|     148|8/29/2013 12:45|Redwood City Calt...|              22|8/29/2013 12:48|Redwood City Calt...|            22|    159|       Subscriber|   94061|         8/29/2013|           94063|8/29/2013|             80.0|              71.0|             62.0|           63.0|            59.0|           57.0|        94.0|         79.0|        48.0|                        30.07|                         30.02|                        29.97|                10.0|                 10.0|                10.0|              14.0|                6.0|              17.0|                   0|        5.0|  null|           313.0|    94063|      22|Redwood City Calt...|37.486078000000006|-122.23208899999999|         25| Redwood City|              8/15/2013|    22|Redwood City Calt...|37.486078000000006|-122.23208899999999|       25| Redwood City|            8/15/2013|\n",
      "|   4265|     151|8/29/2013 11:40|San Francisco Cit...|              58|8/29/2013 11:42|San Francisco Cit...|            58|    520|       Subscriber|   94110|         8/29/2013|           94107|8/29/2013|             74.0|              68.0|             61.0|           61.0|            58.0|           56.0|        93.0|         75.0|        57.0|                        30.07|                         30.02|                        29.97|                10.0|                 10.0|                10.0|              23.0|               11.0|              28.0|                   0|        4.0|  null|           286.0|    94107|      58|San Francisco Cit...|          37.77865|-122.41823500000001|         19|San Francisco|              8/21/2013|    58|San Francisco Cit...|          37.77865|-122.41823500000001|       19|San Francisco|            8/21/2013|\n",
      "|   5093|     160|8/29/2013 22:12|     Post at Kearney|              47|8/29/2013 22:14|   Market at Sansome|            77|    442|       Subscriber|   94115|         8/29/2013|           94107|8/29/2013|             74.0|              68.0|             61.0|           61.0|            58.0|           56.0|        93.0|         75.0|        57.0|                        30.07|                         30.02|                        29.97|                10.0|                 10.0|                10.0|              23.0|               11.0|              28.0|                   0|        4.0|  null|           286.0|    94107|      47|     Post at Kearney|         37.788975|        -122.403452|         19|San Francisco|              8/19/2013|    77|   Market at Sansome|         37.789625|        -122.400811|       27|San Francisco|            8/25/2013|\n",
      "+-------+--------+---------------+--------------------+----------------+---------------+--------------------+--------------+-------+-----------------+--------+------------------+----------------+---------+-----------------+------------------+-----------------+---------------+----------------+---------------+------------+-------------+------------+-----------------------------+------------------------------+-----------------------------+--------------------+---------------------+--------------------+------------------+-------------------+------------------+--------------------+-----------+------+----------------+---------+--------+--------------------+------------------+-------------------+-----------+-------------+-----------------------+------+--------------------+------------------+-------------------+---------+-------------+---------------------+\n",
      "only showing top 20 rows"
     ]
    }
   ],
   "source": [
    "trip_weather_start = trip_weather.join(station, trip_weather.start_station_id == station.id)\n",
    "trip_weather_start = trip_weather_start.withColumnRenamed('id', 'start_id')\\\n",
    "                                       .withColumnRenamed('name', 'start_name')\\\n",
    "                                       .withColumnRenamed('lat', 'start_lat')\\\n",
    "                                       .withColumnRenamed('long', 'start_long')\\\n",
    "                                       .withColumnRenamed('dock_count', 'start_count')\\\n",
    "                                       .withColumnRenamed('city', 'start_city')\\\n",
    "                                       .withColumnRenamed('installation_date', 'start_installation_date')\n",
    "trip_weather_station = trip_weather_start.join(station, trip_weather_start.end_station_id == station.id)\n",
    "trip_weather_station = trip_weather_station.withColumnRenamed('id', 'end_id')\\\n",
    "                                           .withColumnRenamed('name', 'end_name')\\\n",
    "                                           .withColumnRenamed('lat', 'end_lat')\\\n",
    "                                           .withColumnRenamed('long', 'end_long')\\\n",
    "                                           .withColumnRenamed('dock_count', 'end_count')\\\n",
    "                                           .withColumnRenamed('city', 'end_city')\\\n",
    "                                           .withColumnRenamed('installation_date', 'end_installation_date')\n",
    "trip_weather_station.show()"
   ]
  },
  {
   "cell_type": "code",
   "execution_count": 8,
   "metadata": {},
   "outputs": [
    {
     "data": {
      "application/vnd.jupyter.widget-view+json": {
       "model_id": "fd5353f085454b2582a53d064951a39a",
       "version_major": 2,
       "version_minor": 0
      },
      "text/plain": [
       "VBox()"
      ]
     },
     "metadata": {},
     "output_type": "display_data"
    },
    {
     "data": {
      "application/vnd.jupyter.widget-view+json": {
       "model_id": "",
       "version_major": 2,
       "version_minor": 0
      },
      "text/plain": [
       "FloatProgress(value=0.0, bar_style='info', description='Progress:', layout=Layout(height='25px', width='50%'),…"
      ]
     },
     "metadata": {},
     "output_type": "display_data"
    },
    {
     "name": "stdout",
     "output_type": "stream",
     "text": [
      "--- 10.4097580909729 seconds ---"
     ]
    }
   ],
   "source": [
    "print(\"--- %s seconds ---\" % (time.time() - start_time))"
   ]
  },
  {
   "cell_type": "markdown",
   "metadata": {},
   "source": [
    "# Write Data to HDFS"
   ]
  },
  {
   "cell_type": "code",
   "execution_count": 10,
   "metadata": {},
   "outputs": [
    {
     "data": {
      "application/vnd.jupyter.widget-view+json": {
       "model_id": "6b4a8df5c2454f91a63fc3969329f587",
       "version_major": 2,
       "version_minor": 0
      },
      "text/plain": [
       "VBox()"
      ]
     },
     "metadata": {},
     "output_type": "display_data"
    },
    {
     "data": {
      "application/vnd.jupyter.widget-view+json": {
       "model_id": "",
       "version_major": 2,
       "version_minor": 0
      },
      "text/plain": [
       "FloatProgress(value=0.0, bar_style='info', description='Progress:', layout=Layout(height='25px', width='50%'),…"
      ]
     },
     "metadata": {},
     "output_type": "display_data"
    }
   ],
   "source": [
    "trip_weather_station.write.option('path', 's3a://usf.msds.stillbikeshare/merged').saveAsTable('merged')"
   ]
  },
  {
   "cell_type": "markdown",
   "metadata": {},
   "source": [
    "# Read Data From HDFS"
   ]
  },
  {
   "cell_type": "code",
   "execution_count": 13,
   "metadata": {
    "collapsed": true,
    "jupyter": {
     "outputs_hidden": true
    }
   },
   "outputs": [
    {
     "data": {
      "application/vnd.jupyter.widget-view+json": {
       "model_id": "c442a983274a4951ad1e8b358dcd0b89",
       "version_major": 2,
       "version_minor": 0
      },
      "text/plain": [
       "VBox()"
      ]
     },
     "metadata": {},
     "output_type": "display_data"
    },
    {
     "data": {
      "application/vnd.jupyter.widget-view+json": {
       "model_id": "",
       "version_major": 2,
       "version_minor": 0
      },
      "text/plain": [
       "FloatProgress(value=0.0, bar_style='info', description='Progress:', layout=Layout(height='25px', width='50%'),…"
      ]
     },
     "metadata": {},
     "output_type": "display_data"
    },
    {
     "name": "stdout",
     "output_type": "stream",
     "text": [
      "+-------+--------+--------------+--------------------+----------------+--------------+--------------------+--------------+-------+-----------------+--------+------------------+----------------+--------+-----------------+------------------+-----------------+---------------+----------------+---------------+------------+-------------+------------+-----------------------------+------------------------------+-----------------------------+--------------------+---------------------+--------------------+------------------+-------------------+------------------+--------------------+-----------+------+----------------+---------+--------+--------------------+------------------+-------------------+-----------+-------------+-----------------------+------+--------------------+------------------+-------------------+---------+-------------+---------------------+\n",
      "|trip_id|duration|    start_date|  start_station_name|start_station_id|      end_date|    end_station_name|end_station_id|bike_id|subscription_type|zip_code|start_date_no_time|zip_code_weather|    date|max_temperature_f|mean_temperature_f|min_temperature_f|max_dew_point_f|mean_dew_point_f|min_dew_point_f|max_humidity|mean_humidity|min_humidity|max_sea_level_pressure_inches|mean_sea_level_pressure_inches|min_sea_level_pressure_inches|max_visibility_miles|mean_visibility_miles|min_visibility_miles|max_wind_Speed_mph|mean_wind_speed_mph|max_gust_speed_mph|precipitation_inches|cloud_cover|events|wind_dir_degrees|zip_code2|start_id|          start_name|         start_lat|         start_long|start_count|   start_city|start_installation_date|end_id|            end_name|           end_lat|           end_long|end_count|     end_city|end_installation_date|\n",
      "+-------+--------+--------------+--------------------+----------------+--------------+--------------------+--------------+-------+-----------------+--------+------------------+----------------+--------+-----------------+------------------+-----------------+---------------+----------------+---------------+------------+-------------+------------+-----------------------------+------------------------------+-----------------------------+--------------------+---------------------+--------------------+------------------+-------------------+------------------+--------------------+-----------+------+----------------+---------+--------+--------------------+------------------+-------------------+-----------+-------------+-----------------------+------+--------------------+------------------+-------------------+---------+-------------+---------------------+\n",
      "| 147749|     218|1/9/2014 12:03|Arena Green / SAP...|              14|1/9/2014 12:06|Santa Clara at Al...|             4|    654|       Subscriber|   95113|          1/9/2014|           95113|1/9/2014|             59.0|              53.0|             46.0|           52.0|            46.0|           42.0|        96.0|         79.0|        61.0|                        30.27|                         30.23|                         30.2|                10.0|                  8.0|                 1.0|              18.0|                4.0|              21.0|                0.01|        6.0|  Rain|           303.0|    95113|      14|Arena Green / SAP...|         37.332692|        -121.900084|         19|     San Jose|               8/5/2013|     4|Santa Clara at Al...|         37.333988|        -121.894902|       11|     San Jose|             8/6/2013|\n",
      "| 147752|     634|1/9/2014 12:03|San Francisco Cit...|              58|1/9/2014 12:14|   Market at Sansome|            77|    355|       Subscriber|   94102|          1/9/2014|           94107|1/9/2014|             60.0|              56.0|             52.0|           50.0|            47.0|           43.0|        89.0|         73.0|        57.0|                        30.27|                         30.23|                         30.2|                10.0|                 10.0|                 5.0|              25.0|               12.0|              31.0|                   T|        5.0|  null|           287.0|    94107|      58|San Francisco Cit...|          37.77865|-122.41823500000001|         19|San Francisco|              8/21/2013|    77|   Market at Sansome|         37.789625|        -122.400811|       27|San Francisco|            8/25/2013|\n",
      "| 147759|     496|1/9/2014 12:08|South Van Ness at...|              66|1/9/2014 12:17| Golden Gate at Polk|            59|    521|       Subscriber|   94115|          1/9/2014|           94107|1/9/2014|             60.0|              56.0|             52.0|           50.0|            47.0|           43.0|        89.0|         73.0|        57.0|                        30.27|                         30.23|                         30.2|                10.0|                 10.0|                 5.0|              25.0|               12.0|              31.0|                   T|        5.0|  null|           287.0|    94107|      66|South Van Ness at...|         37.774814|        -122.418954|         19|San Francisco|              8/23/2013|    59| Golden Gate at Polk|         37.781332|        -122.418603|       23|San Francisco|            8/21/2013|\n",
      "| 147760|     495|1/9/2014 12:08|South Van Ness at...|              66|1/9/2014 12:17| Golden Gate at Polk|            59|    529|       Subscriber|   94103|          1/9/2014|           94107|1/9/2014|             60.0|              56.0|             52.0|           50.0|            47.0|           43.0|        89.0|         73.0|        57.0|                        30.27|                         30.23|                         30.2|                10.0|                 10.0|                 5.0|              25.0|               12.0|              31.0|                   T|        5.0|  null|           287.0|    94107|      66|South Van Ness at...|         37.774814|        -122.418954|         19|San Francisco|              8/23/2013|    59| Golden Gate at Polk|         37.781332|        -122.418603|       23|San Francisco|            8/21/2013|\n",
      "| 147761|     499|1/9/2014 12:08|South Van Ness at...|              66|1/9/2014 12:17| Golden Gate at Polk|            59|    631|       Subscriber|   94118|          1/9/2014|           94107|1/9/2014|             60.0|              56.0|             52.0|           50.0|            47.0|           43.0|        89.0|         73.0|        57.0|                        30.27|                         30.23|                         30.2|                10.0|                 10.0|                 5.0|              25.0|               12.0|              31.0|                   T|        5.0|  null|           287.0|    94107|      66|South Van Ness at...|         37.774814|        -122.418954|         19|San Francisco|              8/23/2013|    59| Golden Gate at Polk|         37.781332|        -122.418603|       23|San Francisco|            8/21/2013|\n",
      "| 147762|     732|1/9/2014 12:09|       Howard at 2nd|              63|1/9/2014 12:21|Grant Avenue at C...|            73|    479|       Subscriber|   94133|          1/9/2014|           94107|1/9/2014|             60.0|              56.0|             52.0|           50.0|            47.0|           43.0|        89.0|         73.0|        57.0|                        30.27|                         30.23|                         30.2|                10.0|                 10.0|                 5.0|              25.0|               12.0|              31.0|                   T|        5.0|  null|           287.0|    94107|      63|       Howard at 2nd|37.786978000000005|-122.39810800000001|         19|San Francisco|              8/22/2013|    73|Grant Avenue at C...|         37.798522|-122.40724499999999|       15|San Francisco|            8/21/2013|\n",
      "| 147766|     628|1/9/2014 12:08|Embarcadero at Sa...|              60|1/9/2014 12:18|Harry Bridges Pla...|            50|    550|       Subscriber|   94116|          1/9/2014|           94107|1/9/2014|             60.0|              56.0|             52.0|           50.0|            47.0|           43.0|        89.0|         73.0|        57.0|                        30.27|                         30.23|                         30.2|                10.0|                 10.0|                 5.0|              25.0|               12.0|              31.0|                   T|        5.0|  null|           287.0|    94107|      60|Embarcadero at Sa...|          37.80477|-122.40323400000001|         15|San Francisco|              8/21/2013|    50|Harry Bridges Pla...|         37.795392|        -122.394203|       23|San Francisco|            8/20/2013|\n",
      "| 147767|     478|1/9/2014 12:12|   Market at Sansome|              77|1/9/2014 12:20|Embarcadero at Sa...|            60|    310|       Subscriber|   94306|          1/9/2014|           94301|1/9/2014|             61.0|              54.0|             46.0|           52.0|            45.0|           40.0|        93.0|         72.0|        51.0|                        30.28|                         30.25|                        30.21|                10.0|                  9.0|                 2.0|              15.0|                4.0|              21.0|                0.01|        4.0|  Rain|           258.0|    94301|      77|   Market at Sansome|         37.789625|        -122.400811|         27|San Francisco|              8/25/2013|    60|Embarcadero at Sa...|          37.80477|-122.40323400000001|       15|San Francisco|            8/21/2013|\n",
      "| 147768|     727|1/9/2014 12:13|Palo Alto Caltrai...|              34|1/9/2014 12:25|Palo Alto Caltrai...|            34|    131|       Subscriber|   94117|          1/9/2014|           94107|1/9/2014|             60.0|              56.0|             52.0|           50.0|            47.0|           43.0|        89.0|         73.0|        57.0|                        30.27|                         30.23|                         30.2|                10.0|                 10.0|                 5.0|              25.0|               12.0|              31.0|                   T|        5.0|  null|           287.0|    94107|      34|Palo Alto Caltrai...|         37.443988|        -122.164759|         23|    Palo Alto|              8/14/2013|    34|Palo Alto Caltrai...|         37.443988|        -122.164759|       23|    Palo Alto|            8/14/2013|\n",
      "| 147773|     565|1/9/2014 12:17|Yerba Buena Cente...|              68|1/9/2014 12:26|     Clay at Battery|            41|    567|       Subscriber|   94133|          1/9/2014|           94107|1/9/2014|             60.0|              56.0|             52.0|           50.0|            47.0|           43.0|        89.0|         73.0|        57.0|                        30.27|                         30.23|                         30.2|                10.0|                 10.0|                 5.0|              25.0|               12.0|              31.0|                   T|        5.0|  null|           287.0|    94107|      68|Yerba Buena Cente...|37.784878000000006|-122.40101399999999|         19|San Francisco|              8/23/2013|    41|     Clay at Battery|         37.795001|         -122.39997|       15|San Francisco|            8/19/2013|\n",
      "| 147774|     423|1/9/2014 12:18|   2nd at South Park|              64|1/9/2014 12:25|Yerba Buena Cente...|            68|    357|       Subscriber|   94107|          1/9/2014|           94107|1/9/2014|             60.0|              56.0|             52.0|           50.0|            47.0|           43.0|        89.0|         73.0|        57.0|                        30.27|                         30.23|                         30.2|                10.0|                 10.0|                 5.0|              25.0|               12.0|              31.0|                   T|        5.0|  null|           287.0|    94107|      64|   2nd at South Park|         37.782259|        -122.392738|         15|San Francisco|              8/22/2013|    68|Yerba Buena Cente...|37.784878000000006|-122.40101399999999|       19|San Francisco|            8/23/2013|\n",
      "| 147777|     294|1/9/2014 12:19|SJSU - San Salvad...|              16|1/9/2014 12:24|Paseo de San Antonio|             7|     75|       Subscriber|   95112|          1/9/2014|           95113|1/9/2014|             59.0|              53.0|             46.0|           52.0|            46.0|           42.0|        96.0|         79.0|        61.0|                        30.27|                         30.23|                         30.2|                10.0|                  8.0|                 1.0|              18.0|                4.0|              21.0|                0.01|        6.0|  Rain|           303.0|    95113|      16|SJSU - San Salvad...|37.333954999999996|        -121.877349|         15|     San Jose|               8/7/2013|     7|Paseo de San Antonio|         37.333798|-121.88694299999999|       15|     San Jose|             8/7/2013|\n",
      "| 147778|     247|1/9/2014 12:17|     Clay at Battery|              41|1/9/2014 12:21|Temporary Transba...|            55|    291|       Subscriber|   94105|          1/9/2014|           94107|1/9/2014|             60.0|              56.0|             52.0|           50.0|            47.0|           43.0|        89.0|         73.0|        57.0|                        30.27|                         30.23|                         30.2|                10.0|                 10.0|                 5.0|              25.0|               12.0|              31.0|                   T|        5.0|  null|           287.0|    94107|      41|     Clay at Battery|         37.795001|         -122.39997|         15|San Francisco|              8/19/2013|    55|Temporary Transba...|         37.789756|-122.39464299999999|       23|San Francisco|            8/20/2013|\n",
      "| 147781|    2006|1/9/2014 12:21|Temporary Transba...|              55|1/9/2014 12:55|     Spear at Folsom|            49|    291|       Subscriber|   94105|          1/9/2014|           94107|1/9/2014|             60.0|              56.0|             52.0|           50.0|            47.0|           43.0|        89.0|         73.0|        57.0|                        30.27|                         30.23|                         30.2|                10.0|                 10.0|                 5.0|              25.0|               12.0|              31.0|                   T|        5.0|  null|           287.0|    94107|      55|Temporary Transba...|         37.789756|-122.39464299999999|         23|San Francisco|              8/20/2013|    49|     Spear at Folsom|37.790302000000004|-122.39063700000001|       19|San Francisco|            8/20/2013|\n",
      "| 147783|     409|1/9/2014 12:23|Embarcadero at Br...|              54|1/9/2014 12:30|Embarcadero at Va...|            48|    276|       Subscriber|   94105|          1/9/2014|           94107|1/9/2014|             60.0|              56.0|             52.0|           50.0|            47.0|           43.0|        89.0|         73.0|        57.0|                        30.27|                         30.23|                         30.2|                10.0|                 10.0|                 5.0|              25.0|               12.0|              31.0|                   T|        5.0|  null|           287.0|    94107|      54|Embarcadero at Br...|         37.787152|-122.38801299999999|         15|San Francisco|              8/20/2013|    48|Embarcadero at Va...|         37.799953|        -122.398525|       15|San Francisco|            8/19/2013|\n",
      "| 147786|    2108|1/9/2014 12:26|San Francisco Cal...|              69|1/9/2014 13:01|Embarcadero at Sa...|            60|    413|       Subscriber|   94107|          1/9/2014|           94107|1/9/2014|             60.0|              56.0|             52.0|           50.0|            47.0|           43.0|        89.0|         73.0|        57.0|                        30.27|                         30.23|                         30.2|                10.0|                 10.0|                 5.0|              25.0|               12.0|              31.0|                   T|        5.0|  null|           287.0|    94107|      69|San Francisco Cal...|           37.7766|-122.39546999999999|         23|San Francisco|              8/23/2013|    60|Embarcadero at Sa...|          37.80477|-122.40323400000001|       15|San Francisco|            8/21/2013|\n",
      "| 147787|    2107|1/9/2014 12:26|San Francisco Cal...|              69|1/9/2014 13:01|Embarcadero at Sa...|            60|    523|       Subscriber|   94107|          1/9/2014|           94107|1/9/2014|             60.0|              56.0|             52.0|           50.0|            47.0|           43.0|        89.0|         73.0|        57.0|                        30.27|                         30.23|                         30.2|                10.0|                 10.0|                 5.0|              25.0|               12.0|              31.0|                   T|        5.0|  null|           287.0|    94107|      69|San Francisco Cal...|           37.7766|-122.39546999999999|         23|San Francisco|              8/23/2013|    60|Embarcadero at Sa...|          37.80477|-122.40323400000001|       15|San Francisco|            8/21/2013|\n",
      "| 147788|     321|1/9/2014 12:26| San Salvador at 1st|               8|1/9/2014 12:32|Santa Clara at Al...|             4|     42|       Subscriber|   95112|          1/9/2014|           95113|1/9/2014|             59.0|              53.0|             46.0|           52.0|            46.0|           42.0|        96.0|         79.0|        61.0|                        30.27|                         30.23|                         30.2|                10.0|                  8.0|                 1.0|              18.0|                4.0|              21.0|                0.01|        6.0|  Rain|           303.0|    95113|       8| San Salvador at 1st|         37.330165|-121.88583100000001|         15|     San Jose|               8/5/2013|     4|Santa Clara at Al...|         37.333988|        -121.894902|       11|     San Jose|             8/6/2013|\n",
      "| 147791|     578|1/9/2014 12:28|San Francisco Cal...|              69|1/9/2014 12:38|Harry Bridges Pla...|            50|    374|       Subscriber|   94109|          1/9/2014|           94107|1/9/2014|             60.0|              56.0|             52.0|           50.0|            47.0|           43.0|        89.0|         73.0|        57.0|                        30.27|                         30.23|                         30.2|                10.0|                 10.0|                 5.0|              25.0|               12.0|              31.0|                   T|        5.0|  null|           287.0|    94107|      69|San Francisco Cal...|           37.7766|-122.39546999999999|         23|San Francisco|              8/23/2013|    50|Harry Bridges Pla...|         37.795392|        -122.394203|       23|San Francisco|            8/20/2013|\n",
      "| 147792|     345|1/9/2014 12:31|Civic Center BART...|              72|1/9/2014 12:36|       Market at 4th|            76|    332|       Subscriber|   94110|          1/9/2014|           94107|1/9/2014|             60.0|              56.0|             52.0|           50.0|            47.0|           43.0|        89.0|         73.0|        57.0|                        30.27|                         30.23|                         30.2|                10.0|                 10.0|                 5.0|              25.0|               12.0|              31.0|                   T|        5.0|  null|           287.0|    94107|      72|Civic Center BART...|         37.781039|        -122.411748|         23|San Francisco|              8/23/2013|    76|       Market at 4th|         37.786305|-122.40496599999999|       19|San Francisco|            8/25/2013|\n",
      "+-------+--------+--------------+--------------------+----------------+--------------+--------------------+--------------+-------+-----------------+--------+------------------+----------------+--------+-----------------+------------------+-----------------+---------------+----------------+---------------+------------+-------------+------------+-----------------------------+------------------------------+-----------------------------+--------------------+---------------------+--------------------+------------------+-------------------+------------------+--------------------+-----------+------+----------------+---------+--------+--------------------+------------------+-------------------+-----------+-------------+-----------------------+------+--------------------+------------------+-------------------+---------+-------------+---------------------+\n",
      "only showing top 20 rows"
     ]
    }
   ],
   "source": [
    "ss.sql(\"select * from parquet.`s3a://usf.msds.stillbikeshare/merged`\").show()"
   ]
  },
  {
   "cell_type": "markdown",
   "metadata": {},
   "source": [
    "# Read Cleaned Data"
   ]
  },
  {
   "cell_type": "code",
   "execution_count": 9,
   "metadata": {},
   "outputs": [
    {
     "data": {
      "application/vnd.jupyter.widget-view+json": {
       "model_id": "66f63fba4e5443f19f68873ab907d797",
       "version_major": 2,
       "version_minor": 0
      },
      "text/plain": [
       "VBox()"
      ]
     },
     "metadata": {},
     "output_type": "display_data"
    },
    {
     "data": {
      "application/vnd.jupyter.widget-view+json": {
       "model_id": "",
       "version_major": 2,
       "version_minor": 0
      },
      "text/plain": [
       "FloatProgress(value=0.0, bar_style='info', description='Progress:', layout=Layout(height='25px', width='50%'),…"
      ]
     },
     "metadata": {},
     "output_type": "display_data"
    },
    {
     "name": "stdout",
     "output_type": "stream",
     "text": [
      "DataFrame[trip_id: int, duration: int, start_station_id: int, end_station_id: int, bike_id: int, zip_code: int, zip_code_weather: int, zip_code2: int, start_id: int, start_lat: double, start_long: double, start_count: int, end_id: int, end_lat: double, end_long: double, end_count: int, out_max_wind_Speed_mph: double, out_cloud_cover: double, out_max_temperature_f: double, out_wind_dir_degrees: double, out_mean_visibility_miles: double, out_min_dew_point_f: double, out_max_gust_speed_mph: double, out_mean_sea_level_pressure_inches: double, out_min_temperature_f: double, out_mean_wind_speed_mph: double, out_max_visibility_miles: double, out_mean_temperature_f: double, out_max_dew_point_f: double, out_max_sea_level_pressure_inches: double, out_min_visibility_miles: double, out_mean_humidity: double, out_max_humidity: double, out_min_humidity: double, out_mean_dew_point_f: double, out_min_sea_level_pressure_inches: double, start_station_name: double, end_station_name: double, subscription_type: double, precipitation_inches: double, events: double, start_name: double, start_city: double, end_name: double, end_city: double, start_weekday: vector, end_weekday: vector, start_month: vector, end_month: vector, start_hour: vector, end_hour: vector]"
     ]
    }
   ],
   "source": [
    "df = ss.sql(\"select * from parquet.`s3a://usf.msds.stillbikeshare/clean_data_bike_share`\")\n",
    "df.cache()"
   ]
  },
  {
   "cell_type": "code",
   "execution_count": 11,
   "metadata": {},
   "outputs": [
    {
     "data": {
      "application/vnd.jupyter.widget-view+json": {
       "model_id": "a22bda6a7e7e435fbd6cc9ed3d5eb454",
       "version_major": 2,
       "version_minor": 0
      },
      "text/plain": [
       "VBox()"
      ]
     },
     "metadata": {},
     "output_type": "display_data"
    },
    {
     "data": {
      "application/vnd.jupyter.widget-view+json": {
       "model_id": "",
       "version_major": 2,
       "version_minor": 0
      },
      "text/plain": [
       "FloatProgress(value=0.0, bar_style='info', description='Progress:', layout=Layout(height='25px', width='50%'),…"
      ]
     },
     "metadata": {},
     "output_type": "display_data"
    }
   ],
   "source": [
    "df_drop = df.drop('trip_id', 'start_date', 'bike_id')\n",
    "df_drop = df_drop.withColumnRenamed('duration', 'label')"
   ]
  },
  {
   "cell_type": "markdown",
   "metadata": {},
   "source": [
    "# RF for full features"
   ]
  },
  {
   "cell_type": "code",
   "execution_count": 2,
   "metadata": {},
   "outputs": [
    {
     "data": {
      "application/vnd.jupyter.widget-view+json": {
       "model_id": "2220dcf3f46d4927975ac39b3aa80480",
       "version_major": 2,
       "version_minor": 0
      },
      "text/plain": [
       "VBox()"
      ]
     },
     "metadata": {},
     "output_type": "display_data"
    },
    {
     "data": {
      "application/vnd.jupyter.widget-view+json": {
       "model_id": "",
       "version_major": 2,
       "version_minor": 0
      },
      "text/plain": [
       "FloatProgress(value=0.0, bar_style='info', description='Progress:', layout=Layout(height='25px', width='50%'),…"
      ]
     },
     "metadata": {},
     "output_type": "display_data"
    }
   ],
   "source": [
    "df_drop_train = ss.read.parquet(\"s3a://usf.msds.stillbikeshare/full_train\")\n",
    "df_drop_test = ss.read.parquet(\"s3a://usf.msds.stillbikeshare/full_test\")"
   ]
  },
  {
   "cell_type": "code",
   "execution_count": 19,
   "metadata": {},
   "outputs": [
    {
     "data": {
      "application/vnd.jupyter.widget-view+json": {
       "model_id": "1b5e3e523e6b44dc851e238d3b7d8790",
       "version_major": 2,
       "version_minor": 0
      },
      "text/plain": [
       "VBox()"
      ]
     },
     "metadata": {},
     "output_type": "display_data"
    },
    {
     "data": {
      "application/vnd.jupyter.widget-view+json": {
       "model_id": "",
       "version_major": 2,
       "version_minor": 0
      },
      "text/plain": [
       "FloatProgress(value=0.0, bar_style='info', description='Progress:', layout=Layout(height='25px', width='50%'),…"
      ]
     },
     "metadata": {},
     "output_type": "display_data"
    },
    {
     "name": "stdout",
     "output_type": "stream",
     "text": [
      "DataFrame[features: vector, label: int]"
     ]
    }
   ],
   "source": [
    "va = VectorAssembler(outputCol=\"features\", inputCols=df_drop_train.columns[1:]) #except the last col.\n",
    "lpoints_f_train = va.transform(df_drop_train).select(\"features\", \"label\")\n",
    "va = VectorAssembler(outputCol=\"features\", inputCols=df_drop_test.columns[1:]) #except the last col.\n",
    "lpoints_f_test = va.transform(df_drop_test).select(\"features\", \"label\")\n",
    "lpoints_f_train.cache()\n",
    "lpoints_f_test.cache()"
   ]
  },
  {
   "cell_type": "markdown",
   "metadata": {},
   "source": [
    "manually create validation set and choose the best set of hyperparameters since n fold cross validation takes forever"
   ]
  },
  {
   "cell_type": "code",
   "execution_count": 11,
   "metadata": {},
   "outputs": [
    {
     "data": {
      "application/vnd.jupyter.widget-view+json": {
       "model_id": "4c1ec71c08154237aa5662e223ba4ddb",
       "version_major": 2,
       "version_minor": 0
      },
      "text/plain": [
       "VBox()"
      ]
     },
     "metadata": {},
     "output_type": "display_data"
    },
    {
     "data": {
      "application/vnd.jupyter.widget-view+json": {
       "model_id": "",
       "version_major": 2,
       "version_minor": 0
      },
      "text/plain": [
       "FloatProgress(value=0.0, bar_style='info', description='Progress:', layout=Layout(height='25px', width='50%'),…"
      ]
     },
     "metadata": {},
     "output_type": "display_data"
    },
    {
     "name": "stdout",
     "output_type": "stream",
     "text": [
      "DataFrame[features: vector, label: int]"
     ]
    }
   ],
   "source": [
    "f_train, f_valid = lpoints_f_train.randomSplit([0.8, 0.2])\n",
    "f_train.cache()\n",
    "f_valid.cache()"
   ]
  },
  {
   "cell_type": "code",
   "execution_count": 16,
   "metadata": {},
   "outputs": [
    {
     "data": {
      "application/vnd.jupyter.widget-view+json": {
       "model_id": "1de9f99cffa44d449cab5233828275f1",
       "version_major": 2,
       "version_minor": 0
      },
      "text/plain": [
       "VBox()"
      ]
     },
     "metadata": {},
     "output_type": "display_data"
    },
    {
     "data": {
      "application/vnd.jupyter.widget-view+json": {
       "model_id": "",
       "version_major": 2,
       "version_minor": 0
      },
      "text/plain": [
       "FloatProgress(value=0.0, bar_style='info', description='Progress:', layout=Layout(height='25px', width='50%'),…"
      ]
     },
     "metadata": {},
     "output_type": "display_data"
    },
    {
     "name": "stdout",
     "output_type": "stream",
     "text": [
      "Accuracy : 4790.850314513121"
     ]
    }
   ],
   "source": [
    "rf = RandomForestRegressor(maxDepth=5, maxBins= 100, minInstancesPerNode=1, minInfoGain = 0, seed=1)\n",
    "rfmodel = rf.fit(f_train)\n",
    "\n",
    "print(\"RMSE : %s\" % RegressionEvaluator().evaluate(rfmodel.transform(f_valid)))"
   ]
  },
  {
   "cell_type": "code",
   "execution_count": 17,
   "metadata": {},
   "outputs": [
    {
     "data": {
      "application/vnd.jupyter.widget-view+json": {
       "model_id": "728495b33ca34c0291631f20c620eb3a",
       "version_major": 2,
       "version_minor": 0
      },
      "text/plain": [
       "VBox()"
      ]
     },
     "metadata": {},
     "output_type": "display_data"
    },
    {
     "data": {
      "application/vnd.jupyter.widget-view+json": {
       "model_id": "",
       "version_major": 2,
       "version_minor": 0
      },
      "text/plain": [
       "FloatProgress(value=0.0, bar_style='info', description='Progress:', layout=Layout(height='25px', width='50%'),…"
      ]
     },
     "metadata": {},
     "output_type": "display_data"
    },
    {
     "name": "stdout",
     "output_type": "stream",
     "text": [
      "Accuracy : 4704.447175916294"
     ]
    }
   ],
   "source": [
    "rf = RandomForestRegressor(maxDepth=10, maxBins= 100, minInstancesPerNode=1, minInfoGain = 0, seed=1)\n",
    "rfmodel = rf.fit(f_train)\n",
    "\n",
    "print(\"RMSE : %s\" % RegressionEvaluator().evaluate(rfmodel.transform(f_valid)))"
   ]
  },
  {
   "cell_type": "code",
   "execution_count": 18,
   "metadata": {},
   "outputs": [
    {
     "data": {
      "application/vnd.jupyter.widget-view+json": {
       "model_id": "bcc6bf816c70415fa77b1313e2aa8802",
       "version_major": 2,
       "version_minor": 0
      },
      "text/plain": [
       "VBox()"
      ]
     },
     "metadata": {},
     "output_type": "display_data"
    },
    {
     "data": {
      "application/vnd.jupyter.widget-view+json": {
       "model_id": "",
       "version_major": 2,
       "version_minor": 0
      },
      "text/plain": [
       "FloatProgress(value=0.0, bar_style='info', description='Progress:', layout=Layout(height='25px', width='50%'),…"
      ]
     },
     "metadata": {},
     "output_type": "display_data"
    },
    {
     "name": "stdout",
     "output_type": "stream",
     "text": [
      "Accuracy : 4701.5217495017705"
     ]
    }
   ],
   "source": [
    "rf = RandomForestRegressor(maxDepth=20, maxBins= 100, minInstancesPerNode=1, minInfoGain = 0, seed=1)\n",
    "rfmodel = rf.fit(f_train)\n",
    "\n",
    "print(\"RMSE : %s\" % RegressionEvaluator().evaluate(rfmodel.transform(f_valid)))"
   ]
  },
  {
   "cell_type": "code",
   "execution_count": 26,
   "metadata": {},
   "outputs": [
    {
     "data": {
      "application/vnd.jupyter.widget-view+json": {
       "model_id": "4f13bb83eaf0430bb28387a28b347296",
       "version_major": 2,
       "version_minor": 0
      },
      "text/plain": [
       "VBox()"
      ]
     },
     "metadata": {},
     "output_type": "display_data"
    },
    {
     "data": {
      "application/vnd.jupyter.widget-view+json": {
       "model_id": "",
       "version_major": 2,
       "version_minor": 0
      },
      "text/plain": [
       "FloatProgress(value=0.0, bar_style='info', description='Progress:', layout=Layout(height='25px', width='50%'),…"
      ]
     },
     "metadata": {},
     "output_type": "display_data"
    },
    {
     "name": "stdout",
     "output_type": "stream",
     "text": [
      "RMSE : 4338.903195029896"
     ]
    }
   ],
   "source": [
    "print(\"RMSE : %s\" % RegressionEvaluator().evaluate(rfmodel.transform(lpoints_f_test)))"
   ]
  },
  {
   "cell_type": "markdown",
   "metadata": {},
   "source": [
    "# Feature Selection"
   ]
  },
  {
   "cell_type": "code",
   "execution_count": 28,
   "metadata": {
    "scrolled": true
   },
   "outputs": [
    {
     "data": {
      "application/vnd.jupyter.widget-view+json": {
       "model_id": "cb65fc9b9b56414c8a4f2d661728a7b6",
       "version_major": 2,
       "version_minor": 0
      },
      "text/plain": [
       "VBox()"
      ]
     },
     "metadata": {},
     "output_type": "display_data"
    },
    {
     "data": {
      "application/vnd.jupyter.widget-view+json": {
       "model_id": "",
       "version_major": 2,
       "version_minor": 0
      },
      "text/plain": [
       "FloatProgress(value=0.0, bar_style='info', description='Progress:', layout=Layout(height='25px', width='50%'),…"
      ]
     },
     "metadata": {},
     "output_type": "display_data"
    }
   ],
   "source": [
    "rf = RandomForestRegressor(maxDepth=10, maxBins= 100, minInstancesPerNode=1, minInfoGain = 0, seed=1)\n",
    "rfmodel = rf.fit(f_train)\n",
    "attrs = sorted((attr[\"idx\"], attr[\"name\"]) for attr in (chain(*lpoints_f_train\n",
    "        .schema[\"features\"]\n",
    "        .metadata[\"ml_attr\"][\"attrs\"].values())))\n",
    "\n",
    "feature_scores = [(name, rfmodel.featureImportances[idx]) for idx, name in attrs if rfmodel.featureImportances[idx]]\n",
    "feature_scores = sorted(feature_scores, key=lambda tup: tup[1], reverse=True)"
   ]
  },
  {
   "cell_type": "code",
   "execution_count": 28,
   "metadata": {
    "scrolled": true
   },
   "outputs": [
    {
     "data": {
      "application/vnd.jupyter.widget-view+json": {
       "model_id": "29a2ae084a45495f8b133a7f98df82c9",
       "version_major": 2,
       "version_minor": 0
      },
      "text/plain": [
       "VBox()"
      ]
     },
     "metadata": {},
     "output_type": "display_data"
    },
    {
     "data": {
      "application/vnd.jupyter.widget-view+json": {
       "model_id": "",
       "version_major": 2,
       "version_minor": 0
      },
      "text/plain": [
       "FloatProgress(value=0.0, bar_style='info', description='Progress:', layout=Layout(height='25px', width='50%'),…"
      ]
     },
     "metadata": {},
     "output_type": "display_data"
    },
    {
     "name": "stdout",
     "output_type": "stream",
     "text": [
      "['zip_code', 'start_station_name', 'end_station_name', 'out_cloud_cover', 'out_min_humidity', 'subscription_type', 'out_max_wind_Speed_mph', 'start_name', 'out_max_temperature_f', 'end_name', 'out_mean_sea_level_pressure_inches', 'out_max_dew_point_f', 'out_wind_dir_degrees', 'out_mean_wind_speed_mph', 'out_mean_temperature_f', 'out_min_dew_point_f', 'out_max_gust_speed_mph', 'out_max_sea_level_pressure_inches', 'start_long', 'start_id', 'start_weekday', 'start_hour', 'start_month', 'end_weekday', 'end_hour', 'end_month', 'label']"
     ]
    }
   ],
   "source": [
    "feature_score_selected = [i for i in feature_scores if i[1] >= 0.01]\n",
    "feature_score_selected = [i[0] for i in feature_score_selected]\n",
    "feature_score_selected = [i for i in feature_score_selected if not i.startswith('start_weekday') and\n",
    "                                                             not i.startswith('start_hour') and\n",
    "                                                             not i.startswith('start_month') and\n",
    "                                                             not i.startswith('end_weekday') and\n",
    "                                                             not i.startswith('end_hour') and\n",
    "                                                             not i.startswith('end_month')]\n",
    "feature_score_selected = feature_score_selected + ['start_weekday', 'start_hour', 'start_month',\n",
    "                                                   'end_weekday', 'end_hour', 'end_month', 'label']\n",
    "\n",
    "feature_score_selected = [i for i in feature_score_selected if i != 'start_station_id' and i != 'end_station_id']\n",
    "feature_score_selected"
   ]
  },
  {
   "cell_type": "markdown",
   "metadata": {},
   "source": [
    "# RF for selected features"
   ]
  },
  {
   "cell_type": "code",
   "execution_count": 22,
   "metadata": {},
   "outputs": [
    {
     "data": {
      "application/vnd.jupyter.widget-view+json": {
       "model_id": "d08f8259f5c84b738f10d9a2943b99e1",
       "version_major": 2,
       "version_minor": 0
      },
      "text/plain": [
       "VBox()"
      ]
     },
     "metadata": {},
     "output_type": "display_data"
    },
    {
     "data": {
      "application/vnd.jupyter.widget-view+json": {
       "model_id": "",
       "version_major": 2,
       "version_minor": 0
      },
      "text/plain": [
       "FloatProgress(value=0.0, bar_style='info', description='Progress:', layout=Layout(height='25px', width='50%'),…"
      ]
     },
     "metadata": {},
     "output_type": "display_data"
    }
   ],
   "source": [
    "df_selected_train = ss.read.parquet(\"s3a://usf.msds.stillbikeshare/selected_train\")\n",
    "df_selected_test = ss.read.parquet(\"s3a://usf.msds.stillbikeshare/selected_test\")"
   ]
  },
  {
   "cell_type": "code",
   "execution_count": 23,
   "metadata": {},
   "outputs": [
    {
     "data": {
      "application/vnd.jupyter.widget-view+json": {
       "model_id": "5d3050d25ff84c22a6cefe81c972cce3",
       "version_major": 2,
       "version_minor": 0
      },
      "text/plain": [
       "VBox()"
      ]
     },
     "metadata": {},
     "output_type": "display_data"
    },
    {
     "data": {
      "application/vnd.jupyter.widget-view+json": {
       "model_id": "",
       "version_major": 2,
       "version_minor": 0
      },
      "text/plain": [
       "FloatProgress(value=0.0, bar_style='info', description='Progress:', layout=Layout(height='25px', width='50%'),…"
      ]
     },
     "metadata": {},
     "output_type": "display_data"
    }
   ],
   "source": [
    "va = VectorAssembler(outputCol=\"features\", inputCols=df_selected_train.columns[0:-1]) #except the last col.\n",
    "selected_train = va.transform(df_selected_train).select(\"features\", \"label\")\n",
    "selected_test = va.transform(df_selected_test).select(\"features\", \"label\")\n",
    "rf = RandomForestRegressor(maxDepth=20, seed=1, maxBins=100)\n",
    "model_selected = rf.fit(selected_train)"
   ]
  },
  {
   "cell_type": "code",
   "execution_count": 24,
   "metadata": {},
   "outputs": [
    {
     "data": {
      "application/vnd.jupyter.widget-view+json": {
       "model_id": "8657c744f709453fac04b78842b681ba",
       "version_major": 2,
       "version_minor": 0
      },
      "text/plain": [
       "VBox()"
      ]
     },
     "metadata": {},
     "output_type": "display_data"
    },
    {
     "data": {
      "application/vnd.jupyter.widget-view+json": {
       "model_id": "",
       "version_major": 2,
       "version_minor": 0
      },
      "text/plain": [
       "FloatProgress(value=0.0, bar_style='info', description='Progress:', layout=Layout(height='25px', width='50%'),…"
      ]
     },
     "metadata": {},
     "output_type": "display_data"
    },
    {
     "name": "stdout",
     "output_type": "stream",
     "text": [
      "RMSE : 4369.50640375176"
     ]
    }
   ],
   "source": [
    "print(\"RMSE : %s\" % RegressionEvaluator().evaluate(model_selected.transform(selected_test)))"
   ]
  },
  {
   "cell_type": "markdown",
   "metadata": {},
   "source": [
    "# Removed Outliers"
   ]
  },
  {
   "cell_type": "code",
   "execution_count": 4,
   "metadata": {},
   "outputs": [
    {
     "data": {
      "application/vnd.jupyter.widget-view+json": {
       "model_id": "23c805945f0e4a55a0127e440a990027",
       "version_major": 2,
       "version_minor": 0
      },
      "text/plain": [
       "VBox()"
      ]
     },
     "metadata": {},
     "output_type": "display_data"
    },
    {
     "data": {
      "application/vnd.jupyter.widget-view+json": {
       "model_id": "",
       "version_major": 2,
       "version_minor": 0
      },
      "text/plain": [
       "FloatProgress(value=0.0, bar_style='info', description='Progress:', layout=Layout(height='25px', width='50%'),…"
      ]
     },
     "metadata": {},
     "output_type": "display_data"
    },
    {
     "name": "stdout",
     "output_type": "stream",
     "text": [
      "DataFrame[zip_code: int, start_station_name: double, end_station_name: double, out_cloud_cover: double, out_min_humidity: double, subscription_type: double, out_max_wind_Speed_mph: double, start_name: double, out_max_temperature_f: double, end_name: double, out_mean_sea_level_pressure_inches: double, out_max_dew_point_f: double, out_wind_dir_degrees: double, out_mean_wind_speed_mph: double, out_mean_temperature_f: double, out_min_dew_point_f: double, out_max_gust_speed_mph: double, out_max_sea_level_pressure_inches: double, start_long: double, start_id: int, start_weekday: vector, start_hour: vector, start_month: vector, end_weekday: vector, end_hour: vector, end_month: vector, label: int]"
     ]
    }
   ],
   "source": [
    "df_selected_train = ss.read.parquet(\"s3a://usf.msds.stillbikeshare/noutlier_train\")\n",
    "df_selected_test = ss.read.parquet(\"s3a://usf.msds.stillbikeshare/noutlier_test\")\n",
    "df_selected_train.cache()\n",
    "df_selected_test.cache()"
   ]
  },
  {
   "cell_type": "code",
   "execution_count": 5,
   "metadata": {},
   "outputs": [
    {
     "data": {
      "application/vnd.jupyter.widget-view+json": {
       "model_id": "83a30367d2a5436e8f004c4da17d3456",
       "version_major": 2,
       "version_minor": 0
      },
      "text/plain": [
       "VBox()"
      ]
     },
     "metadata": {},
     "output_type": "display_data"
    },
    {
     "data": {
      "application/vnd.jupyter.widget-view+json": {
       "model_id": "",
       "version_major": 2,
       "version_minor": 0
      },
      "text/plain": [
       "FloatProgress(value=0.0, bar_style='info', description='Progress:', layout=Layout(height='25px', width='50%'),…"
      ]
     },
     "metadata": {},
     "output_type": "display_data"
    },
    {
     "name": "stdout",
     "output_type": "stream",
     "text": [
      "RMSE : 514.6049780844372"
     ]
    }
   ],
   "source": [
    "va = VectorAssembler(outputCol=\"features\", inputCols=df_selected_train.columns[0:-1]) #except the last col.\n",
    "selected_train = va.transform(df_selected_train).select(\"features\", \"label\")\n",
    "selected_test = va.transform(df_selected_test).select(\"features\", \"label\")\n",
    "rf = RandomForestRegressor(maxDepth=20, seed=1, maxBins=100)\n",
    "model_selected = rf.fit(selected_train)\n",
    "print(\"RMSE : %s\" % RegressionEvaluator().evaluate(model_selected.transform(selected_test)))"
   ]
  },
  {
   "cell_type": "code",
   "execution_count": null,
   "metadata": {},
   "outputs": [],
   "source": []
  },
  {
   "cell_type": "code",
   "execution_count": null,
   "metadata": {},
   "outputs": [],
   "source": []
  },
  {
   "cell_type": "code",
   "execution_count": null,
   "metadata": {},
   "outputs": [],
   "source": []
  },
  {
   "cell_type": "code",
   "execution_count": null,
   "metadata": {},
   "outputs": [],
   "source": []
  },
  {
   "cell_type": "code",
   "execution_count": null,
   "metadata": {},
   "outputs": [],
   "source": []
  },
  {
   "cell_type": "code",
   "execution_count": null,
   "metadata": {},
   "outputs": [],
   "source": []
  }
 ],
 "metadata": {
  "kernelspec": {
   "display_name": "PySpark",
   "language": "",
   "name": "pysparkkernel"
  },
  "language_info": {
   "codemirror_mode": {
    "name": "python",
    "version": 2
   },
   "mimetype": "text/x-python",
   "name": "pyspark",
   "pygments_lexer": "python2"
  }
 },
 "nbformat": 4,
 "nbformat_minor": 4
}
